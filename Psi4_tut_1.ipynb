{
  "nbformat": 4,
  "nbformat_minor": 0,
  "metadata": {
    "colab": {
      "name": "Psi4_tut-1.ipynb",
      "provenance": [],
      "collapsed_sections": []
    },
    "kernelspec": {
      "name": "python3",
      "display_name": "Python 3"
    },
    "language_info": {
      "name": "python"
    }
  },
  "cells": [
    {
      "cell_type": "markdown",
      "source": [
        "# Psi4ではじめる量子化学計算 ①：導入編\n",
        "PC CHEM BASICS.COM: http://pc-chem-basics.blog.jp/"
      ],
      "metadata": {
        "id": "-zDRgXlkFpLj"
      }
    },
    {
      "cell_type": "code",
      "execution_count": null,
      "metadata": {
        "id": "Z3XiehB6-iA3"
      },
      "outputs": [],
      "source": [
        "# condaのインストール\n",
        "!wget -c https://repo.continuum.io/miniconda/Miniconda3-latest-Linux-x86_64.sh\n",
        "!chmod +x Miniconda3-latest-Linux-x86_64.sh\n",
        "!bash ./Miniconda3-latest-Linux-x86_64.sh -b -f -p /usr/local\n",
        "# Psi4のインストール\n",
        "!conda install -y psi4 python=3.7 -c psi4\n",
        "# モジュール検索パスの追加\n",
        "import sys\n",
        "sys.path.append(\"/usr/local/lib/python3.7/site-packages/\")"
      ]
    },
    {
      "cell_type": "code",
      "source": [
        "# Psi4のインポート\n",
        "import psi4\n",
        "# Psi4のバージョン確認\n",
        "print(psi4.__version__)"
      ],
      "metadata": {
        "id": "B-2su5PMAa3q",
        "colab": {
          "base_uri": "https://localhost:8080/"
        },
        "outputId": "b322c66d-a73a-4d20-b070-319c29cef0a2"
      },
      "execution_count": null,
      "outputs": [
        {
          "output_type": "stream",
          "name": "stdout",
          "text": [
            "1.5\n"
          ]
        }
      ]
    }
  ]
}