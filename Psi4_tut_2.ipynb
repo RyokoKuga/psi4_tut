{
  "nbformat": 4,
  "nbformat_minor": 0,
  "metadata": {
    "colab": {
      "name": "Psi4_tut_2.ipynb",
      "provenance": [],
      "collapsed_sections": []
    },
    "kernelspec": {
      "name": "python3",
      "display_name": "Python 3"
    },
    "language_info": {
      "name": "python"
    }
  },
  "cells": [
    {
      "cell_type": "markdown",
      "source": [
        "# Psi4ではじめる量子化学計算 ②：構造最適化編\n",
        "PC CHEM BASICS.COM: http://pc-chem-basics.blog.jp/"
      ],
      "metadata": {
        "id": "-zDRgXlkFpLj"
      }
    },
    {
      "cell_type": "markdown",
      "source": [
        "## 2.1 Psi４のインストール"
      ],
      "metadata": {
        "id": "_CPYWkN4qLWW"
      }
    },
    {
      "cell_type": "code",
      "execution_count": null,
      "metadata": {
        "id": "Z3XiehB6-iA3"
      },
      "outputs": [],
      "source": [
        "# condaのインストール\n",
        "!wget -c https://repo.continuum.io/miniconda/Miniconda3-latest-Linux-x86_64.sh\n",
        "!chmod +x Miniconda3-latest-Linux-x86_64.sh\n",
        "!bash ./Miniconda3-latest-Linux-x86_64.sh -b -f -p /usr/local\n",
        "# Psi4のインストール\n",
        "!conda install -y psi4 python=3.7 -c psi4\n",
        "# モジュール検索パスの追加\n",
        "import sys\n",
        "sys.path.append(\"/usr/local/lib/python3.7/site-packages/\")"
      ]
    },
    {
      "cell_type": "code",
      "source": [
        "# Psi4のインポート\n",
        "import psi4\n",
        "# Psi4のバージョン確認\n",
        "print(psi4.__version__)"
      ],
      "metadata": {
        "id": "B-2su5PMAa3q"
      },
      "execution_count": null,
      "outputs": []
    },
    {
      "cell_type": "markdown",
      "source": [
        "## 2.2 水分子の構造最適化"
      ],
      "metadata": {
        "id": "6sPGG7KXqXB0"
      }
    },
    {
      "cell_type": "code",
      "source": [
        "### 構造最適化計算 ###\n",
        "# 出力ファイルの保存\n",
        "psi4.core.set_output_file(\"H2O.out\")\n",
        "\n",
        "# 分子構造の指定\n",
        "mol = psi4.geometry(\"\"\"\n",
        "symmetry c1\n",
        "0 1\n",
        "O       -1.0239104333      1.3152089264     -0.0149071027                 \n",
        "H       -0.0345840622      1.2807129464      0.0105245830                 \n",
        "H       -1.3132760473      0.5529382075      0.5470664770                 \n",
        "\"\"\")\n",
        "\n",
        "# 計算方法の指定\n",
        "scf_e, wfn = psi4.optimize(\"HF/6-31G(d)\",  return_wfn = True)"
      ],
      "metadata": {
        "id": "Z2SUnE96qFt3"
      },
      "execution_count": null,
      "outputs": []
    },
    {
      "cell_type": "code",
      "source": [
        "# fchkファイルの保存\n",
        "fchk_writer = psi4.core.FCHKWriter(wfn)\n",
        "fchk_writer.write(\"H2O.fchk\")"
      ],
      "metadata": {
        "id": "ZB3epmyiA950"
      },
      "execution_count": null,
      "outputs": []
    }
  ]
}